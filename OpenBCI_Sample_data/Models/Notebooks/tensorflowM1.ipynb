{
 "cells": [
  {
   "cell_type": "markdown",
   "metadata": {},
   "source": [
    "# Prerequisites"
   ]
  },
  {
   "cell_type": "code",
   "execution_count": 55,
   "metadata": {},
   "outputs": [],
   "source": [
    "import time\n",
    "time_start = time.time()"
   ]
  },
  {
   "cell_type": "code",
   "execution_count": 56,
   "metadata": {},
   "outputs": [],
   "source": [
    "#Install pip packages needed\n",
    "#!pip install pandas numpy matplotlib seaborn scikit-learn tensorflow tensorflow-macos tensorflow-metal"
   ]
  },
  {
   "cell_type": "code",
   "execution_count": 57,
   "metadata": {},
   "outputs": [],
   "source": [
    "import pandas as pd\n",
    "import numpy as np\n",
    "import matplotlib.pyplot as plt\n",
    "from sklearn.model_selection import train_test_split\n",
    "import tensorflow as tf\n",
    "from tensorflow import keras"
   ]
  },
  {
   "cell_type": "markdown",
   "metadata": {},
   "source": [
    "# Importing the data"
   ]
  },
  {
   "cell_type": "code",
   "execution_count": 58,
   "metadata": {},
   "outputs": [],
   "source": [
    "#Open blinks data from csv\n",
    "\n",
    "#Make a filename that is a relative path to the data\n",
    "filename = '../../Data/blinks.txt'\n",
    "\n",
    "data = pd.read_csv(filename, sep=\",\", header=None)"
   ]
  },
  {
   "cell_type": "code",
   "execution_count": 59,
   "metadata": {},
   "outputs": [
    {
     "data": {
      "text/html": [
       "<div>\n",
       "<style scoped>\n",
       "    .dataframe tbody tr th:only-of-type {\n",
       "        vertical-align: middle;\n",
       "    }\n",
       "\n",
       "    .dataframe tbody tr th {\n",
       "        vertical-align: top;\n",
       "    }\n",
       "\n",
       "    .dataframe thead th {\n",
       "        text-align: right;\n",
       "    }\n",
       "</style>\n",
       "<table border=\"1\" class=\"dataframe\">\n",
       "  <thead>\n",
       "    <tr style=\"text-align: right;\">\n",
       "      <th></th>\n",
       "      <th>0</th>\n",
       "      <th>1</th>\n",
       "      <th>2</th>\n",
       "      <th>3</th>\n",
       "      <th>4</th>\n",
       "      <th>5</th>\n",
       "      <th>6</th>\n",
       "      <th>7</th>\n",
       "      <th>8</th>\n",
       "      <th>9</th>\n",
       "      <th>10</th>\n",
       "      <th>11</th>\n",
       "      <th>22</th>\n",
       "      <th>23</th>\n",
       "    </tr>\n",
       "  </thead>\n",
       "  <tbody>\n",
       "    <tr>\n",
       "      <th>0</th>\n",
       "      <td>231.0</td>\n",
       "      <td>64830.25</td>\n",
       "      <td>50852.09</td>\n",
       "      <td>-15357.19</td>\n",
       "      <td>-20822.97</td>\n",
       "      <td>6419.09</td>\n",
       "      <td>-3598.56</td>\n",
       "      <td>7074.95</td>\n",
       "      <td>1666.50</td>\n",
       "      <td>0.038</td>\n",
       "      <td>0.770</td>\n",
       "      <td>0.604</td>\n",
       "      <td>1.557936e+12</td>\n",
       "      <td>12:00:57.322</td>\n",
       "    </tr>\n",
       "    <tr>\n",
       "      <th>1</th>\n",
       "      <td>232.0</td>\n",
       "      <td>65204.73</td>\n",
       "      <td>51338.89</td>\n",
       "      <td>-15532.88</td>\n",
       "      <td>-21018.39</td>\n",
       "      <td>6220.27</td>\n",
       "      <td>-3776.89</td>\n",
       "      <td>6869.58</td>\n",
       "      <td>1464.67</td>\n",
       "      <td>0.038</td>\n",
       "      <td>0.770</td>\n",
       "      <td>0.604</td>\n",
       "      <td>1.557936e+12</td>\n",
       "      <td>12:00:57.322</td>\n",
       "    </tr>\n",
       "    <tr>\n",
       "      <th>2</th>\n",
       "      <td>233.0</td>\n",
       "      <td>64880.61</td>\n",
       "      <td>50822.25</td>\n",
       "      <td>-15317.76</td>\n",
       "      <td>-20962.36</td>\n",
       "      <td>6507.96</td>\n",
       "      <td>-3452.81</td>\n",
       "      <td>7167.31</td>\n",
       "      <td>1747.48</td>\n",
       "      <td>0.030</td>\n",
       "      <td>0.776</td>\n",
       "      <td>0.612</td>\n",
       "      <td>1.557936e+12</td>\n",
       "      <td>12:00:57.328</td>\n",
       "    </tr>\n",
       "    <tr>\n",
       "      <th>3</th>\n",
       "      <td>234.0</td>\n",
       "      <td>64431.11</td>\n",
       "      <td>50216.86</td>\n",
       "      <td>-15067.89</td>\n",
       "      <td>-20703.97</td>\n",
       "      <td>6782.68</td>\n",
       "      <td>-3201.98</td>\n",
       "      <td>7451.71</td>\n",
       "      <td>2030.59</td>\n",
       "      <td>0.030</td>\n",
       "      <td>0.776</td>\n",
       "      <td>0.612</td>\n",
       "      <td>1.557936e+12</td>\n",
       "      <td>12:00:57.328</td>\n",
       "    </tr>\n",
       "    <tr>\n",
       "      <th>4</th>\n",
       "      <td>235.0</td>\n",
       "      <td>64745.36</td>\n",
       "      <td>50724.85</td>\n",
       "      <td>-15302.41</td>\n",
       "      <td>-20786.18</td>\n",
       "      <td>6471.43</td>\n",
       "      <td>-3542.17</td>\n",
       "      <td>7128.49</td>\n",
       "      <td>1724.59</td>\n",
       "      <td>0.030</td>\n",
       "      <td>0.776</td>\n",
       "      <td>0.612</td>\n",
       "      <td>1.557936e+12</td>\n",
       "      <td>12:00:57.336</td>\n",
       "    </tr>\n",
       "    <tr>\n",
       "      <th>...</th>\n",
       "      <td>...</td>\n",
       "      <td>...</td>\n",
       "      <td>...</td>\n",
       "      <td>...</td>\n",
       "      <td>...</td>\n",
       "      <td>...</td>\n",
       "      <td>...</td>\n",
       "      <td>...</td>\n",
       "      <td>...</td>\n",
       "      <td>...</td>\n",
       "      <td>...</td>\n",
       "      <td>...</td>\n",
       "      <td>...</td>\n",
       "      <td>...</td>\n",
       "    </tr>\n",
       "    <tr>\n",
       "      <th>21486</th>\n",
       "      <td>213.0</td>\n",
       "      <td>58750.42</td>\n",
       "      <td>47034.95</td>\n",
       "      <td>-18637.04</td>\n",
       "      <td>-27128.40</td>\n",
       "      <td>-9182.90</td>\n",
       "      <td>-18376.35</td>\n",
       "      <td>-5918.16</td>\n",
       "      <td>-6498.79</td>\n",
       "      <td>0.034</td>\n",
       "      <td>0.762</td>\n",
       "      <td>0.610</td>\n",
       "      <td>1.557936e+12</td>\n",
       "      <td>12:02:23.152</td>\n",
       "    </tr>\n",
       "    <tr>\n",
       "      <th>21487</th>\n",
       "      <td>214.0</td>\n",
       "      <td>59029.14</td>\n",
       "      <td>47391.53</td>\n",
       "      <td>-18737.73</td>\n",
       "      <td>-27217.09</td>\n",
       "      <td>-9327.85</td>\n",
       "      <td>-18544.50</td>\n",
       "      <td>-6069.39</td>\n",
       "      <td>-6654.94</td>\n",
       "      <td>0.028</td>\n",
       "      <td>0.768</td>\n",
       "      <td>0.614</td>\n",
       "      <td>1.557936e+12</td>\n",
       "      <td>12:02:23.152</td>\n",
       "    </tr>\n",
       "    <tr>\n",
       "      <th>21488</th>\n",
       "      <td>215.0</td>\n",
       "      <td>58890.72</td>\n",
       "      <td>47196.80</td>\n",
       "      <td>-18850.75</td>\n",
       "      <td>-27389.65</td>\n",
       "      <td>-9400.32</td>\n",
       "      <td>-18621.62</td>\n",
       "      <td>-6141.32</td>\n",
       "      <td>-6739.32</td>\n",
       "      <td>0.028</td>\n",
       "      <td>0.768</td>\n",
       "      <td>0.614</td>\n",
       "      <td>1.557936e+12</td>\n",
       "      <td>12:02:23.159</td>\n",
       "    </tr>\n",
       "    <tr>\n",
       "      <th>21489</th>\n",
       "      <td>216.0</td>\n",
       "      <td>58567.63</td>\n",
       "      <td>46769.70</td>\n",
       "      <td>-18777.12</td>\n",
       "      <td>-27361.26</td>\n",
       "      <td>-9255.01</td>\n",
       "      <td>-18427.36</td>\n",
       "      <td>-5976.43</td>\n",
       "      <td>-6570.79</td>\n",
       "      <td>0.028</td>\n",
       "      <td>0.768</td>\n",
       "      <td>0.614</td>\n",
       "      <td>1.557936e+12</td>\n",
       "      <td>12:02:23.166</td>\n",
       "    </tr>\n",
       "    <tr>\n",
       "      <th>21490</th>\n",
       "      <td>217.0</td>\n",
       "      <td>58705.56</td>\n",
       "      <td>46972.84</td>\n",
       "      <td>-18624.12</td>\n",
       "      <td>-27123.57</td>\n",
       "      <td>-9153.87</td>\n",
       "      <td>-18340.03</td>\n",
       "      <td>-5887.83</td>\n",
       "      <td>-6470.99</td>\n",
       "      <td>0.028</td>\n",
       "      <td>0.768</td>\n",
       "      <td>0.614</td>\n",
       "      <td>1.557936e+12</td>\n",
       "      <td>12:02:23.166</td>\n",
       "    </tr>\n",
       "  </tbody>\n",
       "</table>\n",
       "<p>21491 rows × 14 columns</p>\n",
       "</div>"
      ],
      "text/plain": [
       "          0         1         2         3         4        5         6   \\\n",
       "0      231.0  64830.25  50852.09 -15357.19 -20822.97  6419.09  -3598.56   \n",
       "1      232.0  65204.73  51338.89 -15532.88 -21018.39  6220.27  -3776.89   \n",
       "2      233.0  64880.61  50822.25 -15317.76 -20962.36  6507.96  -3452.81   \n",
       "3      234.0  64431.11  50216.86 -15067.89 -20703.97  6782.68  -3201.98   \n",
       "4      235.0  64745.36  50724.85 -15302.41 -20786.18  6471.43  -3542.17   \n",
       "...      ...       ...       ...       ...       ...      ...       ...   \n",
       "21486  213.0  58750.42  47034.95 -18637.04 -27128.40 -9182.90 -18376.35   \n",
       "21487  214.0  59029.14  47391.53 -18737.73 -27217.09 -9327.85 -18544.50   \n",
       "21488  215.0  58890.72  47196.80 -18850.75 -27389.65 -9400.32 -18621.62   \n",
       "21489  216.0  58567.63  46769.70 -18777.12 -27361.26 -9255.01 -18427.36   \n",
       "21490  217.0  58705.56  46972.84 -18624.12 -27123.57 -9153.87 -18340.03   \n",
       "\n",
       "            7        8      9      10     11            22             23  \n",
       "0      7074.95  1666.50  0.038  0.770  0.604  1.557936e+12   12:00:57.322  \n",
       "1      6869.58  1464.67  0.038  0.770  0.604  1.557936e+12   12:00:57.322  \n",
       "2      7167.31  1747.48  0.030  0.776  0.612  1.557936e+12   12:00:57.328  \n",
       "3      7451.71  2030.59  0.030  0.776  0.612  1.557936e+12   12:00:57.328  \n",
       "4      7128.49  1724.59  0.030  0.776  0.612  1.557936e+12   12:00:57.336  \n",
       "...        ...      ...    ...    ...    ...           ...            ...  \n",
       "21486 -5918.16 -6498.79  0.034  0.762  0.610  1.557936e+12   12:02:23.152  \n",
       "21487 -6069.39 -6654.94  0.028  0.768  0.614  1.557936e+12   12:02:23.152  \n",
       "21488 -6141.32 -6739.32  0.028  0.768  0.614  1.557936e+12   12:02:23.159  \n",
       "21489 -5976.43 -6570.79  0.028  0.768  0.614  1.557936e+12   12:02:23.166  \n",
       "21490 -5887.83 -6470.99  0.028  0.768  0.614  1.557936e+12   12:02:23.166  \n",
       "\n",
       "[21491 rows x 14 columns]"
      ]
     },
     "execution_count": 59,
     "metadata": {},
     "output_type": "execute_result"
    }
   ],
   "source": [
    "#Removing columns 12-22\n",
    "data = data.drop(data.columns[12:22], axis=1)\n",
    "#Remove the first 1000 samples\n",
    "data = data.drop(data.index[0:1000])\n",
    "#Reindex the data\n",
    "data = data.reset_index(drop=True)\n",
    "data"
   ]
  },
  {
   "cell_type": "code",
   "execution_count": 60,
   "metadata": {},
   "outputs": [
    {
     "name": "stdout",
     "output_type": "stream",
     "text": [
      "0        14.686\n",
      "1        14.686\n",
      "2        14.762\n",
      "3        14.762\n",
      "4        14.762\n",
      "          ...  \n",
      "21486    14.636\n",
      "21487    14.686\n",
      "21488    14.686\n",
      "21489    14.686\n",
      "21490    14.686\n",
      "Length: 21491, dtype: float64\n"
     ]
    },
    {
     "data": {
      "image/png": "[encoded data removed]",
      "text/plain": [
       "<Figure size 640x480 with 1 Axes>"
      ]
     },
     "metadata": {},
     "output_type": "display_data"
    },
    {
     "data": {
      "image/png": "[encoded data removed]",
      "text/plain": [
       "<Figure size 640x480 with 1 Axes>"
      ]
     },
     "metadata": {},
     "output_type": "display_data"
    }
   ],
   "source": [
    "#Create a dataframe for the data, columns 1-11\n",
    "useful_data = data.iloc[:,1:12]\n",
    "\n",
    "#Create alpha labels, columns 9-11\n",
    "alphaLabels = data.iloc[:,9:12]\n",
    "\n",
    "#Create a 1d dataframe of the alphas summed\n",
    "alphaSum = alphaLabels.mul([9,10,11]).sum(axis=1)\n",
    "\n",
    "#Plot alpha labels\n",
    "alphaLabels.plot()\n",
    "\n",
    "#Ploting the data\n",
    "useful_data.plot()\n",
    "\n",
    "print(alphaSum)"
   ]
  },
  {
   "cell_type": "code",
   "execution_count": 61,
   "metadata": {},
   "outputs": [
    {
     "data": {
      "text/plain": [
       "norm     19743\n",
       "blink     1748\n",
       "Name: count, dtype: int64"
      ]
     },
     "execution_count": 61,
     "metadata": {},
     "output_type": "execute_result"
    }
   ],
   "source": [
    "n_samps = 21490\n",
    "n_blinks = 40\n",
    "lenRangeDown = 30\n",
    "lenRangeUp = 60\n",
    "labels = pd.DataFrame()\n",
    "\n",
    "#Append 21491 norm labels to the dataframe\n",
    "for i in range(n_samps):\n",
    "    labels = labels._append(['norm'])\n",
    "\n",
    "#Generate random blink labels\n",
    "for _ in range(n_blinks):\n",
    "    # Randomly select the start and end indices for each blink\n",
    "    start_idx = random.randint(0, n_samps - lenRangeUp)\n",
    "    end_idx = start_idx + random.randint(lenRangeDown, lenRangeUp)\n",
    "    \n",
    "    # Set the blink labels for the selected range\n",
    "    for i in range(start_idx, end_idx):\n",
    "        labels.iloc[i] = 'blink'\n",
    "\n",
    "labels.value_counts()"
   ]
  },
  {
   "cell_type": "markdown",
   "metadata": {},
   "source": [
    "# TensorFlow GPU setup"
   ]
  },
  {
   "cell_type": "code",
   "execution_count": 62,
   "metadata": {},
   "outputs": [],
   "source": [
    "#Convert labels to numeric\n",
    "labels = labels.replace('norm', 0)\n",
    "labels = labels.replace('blink', 1)\n",
    "\n",
    "#Reingex the labels\n",
    "labels = labels.reset_index(drop=True)"
   ]
  },
  {
   "cell_type": "code",
   "execution_count": 63,
   "metadata": {},
   "outputs": [],
   "source": [
    "#Splitting data with scikit-learn\n",
    "X_train, X_test, y_train, y_test = train_test_split(useful_data, labels, test_size=0.2, random_state=42)"
   ]
  },
  {
   "cell_type": "code",
   "execution_count": 64,
   "metadata": {},
   "outputs": [],
   "source": [
    "model = keras.Sequential([\n",
    "    keras.layers.Input(shape=(11,)),  # Adjust the input shape based on your data\n",
    "    keras.layers.Dense(64, activation='relu'),\n",
    "    keras.layers.Dense(32, activation='relu'),\n",
    "    keras.layers.Dense(1, activation='sigmoid')  # Output layer with sigmoid activation for binary classification\n",
    "])\n",
    "\n",
    "# Compile the model\n",
    "model.compile(optimizer='adam', loss='binary_crossentropy', metrics=['accuracy'])"
   ]
  },
  {
   "cell_type": "code",
   "execution_count": 65,
   "metadata": {},
   "outputs": [
    {
     "name": "stdout",
     "output_type": "stream",
     "text": [
      "Epoch 1/10\n",
      "538/538 [==============================] - 5s 8ms/step - loss: 95.5533 - accuracy: 0.8484\n",
      "Epoch 2/10\n",
      "538/538 [==============================] - 4s 8ms/step - loss: 70.2618 - accuracy: 0.8520\n",
      "Epoch 3/10\n",
      "538/538 [==============================] - 4s 8ms/step - loss: 63.3270 - accuracy: 0.8474\n",
      "Epoch 4/10\n",
      "538/538 [==============================] - 4s 8ms/step - loss: 62.3394 - accuracy: 0.8497\n",
      "Epoch 5/10\n",
      "538/538 [==============================] - 4s 8ms/step - loss: 58.5118 - accuracy: 0.8493\n",
      "Epoch 6/10\n",
      "538/538 [==============================] - 4s 8ms/step - loss: 48.6783 - accuracy: 0.8498\n",
      "Epoch 7/10\n",
      "538/538 [==============================] - 4s 8ms/step - loss: 59.0525 - accuracy: 0.8478\n",
      "Epoch 8/10\n",
      "538/538 [==============================] - 4s 8ms/step - loss: 63.0791 - accuracy: 0.8523\n",
      "Epoch 9/10\n",
      "538/538 [==============================] - 4s 8ms/step - loss: 54.4542 - accuracy: 0.8489\n",
      "Epoch 10/10\n",
      "538/538 [==============================] - 4s 8ms/step - loss: 48.2105 - accuracy: 0.8496\n",
      "538/538 [==============================] - 1s 2ms/step\n",
      "Training accuracy: 0.9174034434620754\n",
      "135/135 [==============================] - 1s 4ms/step\n",
      "Test accuracy: 0.923703186787625\n"
     ]
    }
   ],
   "source": [
    "# Convert Pandas Series to NumPy arrays\n",
    "y_train = y_train.to_numpy()\n",
    "y_test = y_test.to_numpy()\n",
    "\n",
    "history = model.fit(X_train, y_train, epochs=10, batch_size=32)\n",
    "\n",
    "# Evaluate the model's training error\n",
    "trainPred = model.predict(X_train)\n",
    "\n",
    "correctTrain = 0\n",
    "for i in range(len(trainPred)):\n",
    "    if trainPred[i] >= 0.5 and y_train[i] == 1:\n",
    "        correctTrain += 1\n",
    "    elif trainPred[i] < 0.5 and y_train[i] == 0:\n",
    "        correctTrain += 1\n",
    "    else:\n",
    "        continue\n",
    "\n",
    "print('Training accuracy:', correctTrain/len(trainPred))\n",
    "\n",
    "# Evaluate the model's test error\n",
    "testPred = model.predict(X_test)\n",
    "\n",
    "correctTest = 0\n",
    "for i in range(len(testPred)):\n",
    "    if testPred[i] >= 0.5 and y_test[i] == 1:\n",
    "        correctTest += 1\n",
    "    elif testPred[i] < 0.5 and y_test[i] == 0:\n",
    "        correctTest += 1\n",
    "    else:\n",
    "        continue\n",
    "\n",
    "print('Test accuracy:', correctTest/len(testPred))\n"
   ]
  },
  {
   "cell_type": "markdown",
   "metadata": {},
   "source": [
    "# Collecting the results"
   ]
  },
  {
   "cell_type": "code",
   "execution_count": null,
   "metadata": {},
   "outputs": [],
   "source": []
  },
  {
   "cell_type": "markdown",
   "metadata": {},
   "source": [
    "# Notebook Runtime"
   ]
  },
  {
   "cell_type": "code",
   "execution_count": 66,
   "metadata": {},
   "outputs": [
    {
     "name": "stdout",
     "output_type": "stream",
     "text": [
      "Time to finish: 47.71172881126404 seconds\n"
     ]
    }
   ],
   "source": [
    "#Time to finish\n",
    "time_end = time.time()\n",
    "print('Time to finish:', time_end - time_start, 'seconds')"
   ]
  }
 ],
 "metadata": {
  "kernelspec": {
   "display_name": "Python 3",
   "language": "python",
   "name": "python3"
  },
  "language_info": {
   "codemirror_mode": {
    "name": "ipython",
    "version": 3
   },
   "file_extension": ".py",
   "mimetype": "text/x-python",
   "name": "python",
   "nbconvert_exporter": "python",
   "pygments_lexer": "ipython3",
   "version": "3.9.6"
  }
 },
 "nbformat": 4,
 "nbformat_minor": 2
}
