{
 "cells": [
  {
   "cell_type": "markdown",
   "metadata": {},
   "source": [
    "# Initializations"
   ]
  },
  {
   "cell_type": "code",
   "execution_count": 3,
   "metadata": {},
   "outputs": [],
   "source": [
    "#!pip install pyOpenBCI pylsl\n",
    "#!pip install numpy pyserial bitstring xmltodict requests"
   ]
  },
  {
   "cell_type": "code",
   "execution_count": 2,
   "metadata": {},
   "outputs": [],
   "source": [
    "# import pyOpenBCI\n",
    "# from pyOpenBCI import OpenBCICyton\n",
    "\n",
    "# #For Windows replace '*' with the port number\n",
    "# #board = OpenBCICyton(port='COM*')\n",
    "\n",
    "# #For MacOS and Linux replace '*' with the port number\n",
    "# #board = OpenBCICyton(port='/dev/ttyUSB*')\n",
    "\n",
    "# #Auto port detection\n",
    "# board = OpenBCICyton()"
   ]
  },
  {
   "cell_type": "code",
   "execution_count": 1,
   "metadata": {},
   "outputs": [],
   "source": [
    "# from pyOpenBCI import OpenBCICyton\n",
    "\n",
    "# def print_raw(sample):\n",
    "#     print(sample.channels_data)\n",
    "\n",
    "# board = OpenBCICyton()\n",
    "\n",
    "# board.start_stream(print_raw)"
   ]
  },
  {
   "cell_type": "markdown",
   "metadata": {},
   "source": [
    "# Tkinter"
   ]
  },
  {
   "cell_type": "code",
   "execution_count": 1,
   "metadata": {},
   "outputs": [
    {
     "name": "stdout",
     "output_type": "stream",
     "text": [
      "Creating LSL stream for EEG. \n",
      "Name: OpenBCIEEG\n",
      "ID: OpenBCItestEEG\n",
      "\n",
      "Creating LSL stream for AUX. \n",
      "Name: OpenBCIAUX\n",
      "ID: OpenBCItestEEG\n",
      "\n"
     ]
    },
    {
     "name": "stderr",
     "output_type": "stream",
     "text": [
      "2024-02-05 14:22:21.774 (  24.240s) [          160995]      netinterfaces.cpp:91    INFO| netif 'lo0' (status: 1, multicast: 32768, broadcast: 0)\n",
      "2024-02-05 14:22:21.775 (  24.241s) [          160995]      netinterfaces.cpp:91    INFO| netif 'lo0' (status: 1, multicast: 32768, broadcast: 0)\n",
      "2024-02-05 14:22:21.775 (  24.241s) [          160995]      netinterfaces.cpp:102   INFO| \tIPv4 addr: 7f000001\n",
      "2024-02-05 14:22:21.775 (  24.241s) [          160995]      netinterfaces.cpp:91    INFO| netif 'lo0' (status: 1, multicast: 32768, broadcast: 0)\n",
      "2024-02-05 14:22:21.775 (  24.241s) [          160995]      netinterfaces.cpp:105   INFO| \tIPv6 addr: ::1\n",
      "2024-02-05 14:22:21.775 (  24.241s) [          160995]      netinterfaces.cpp:91    INFO| netif 'lo0' (status: 1, multicast: 32768, broadcast: 0)\n",
      "2024-02-05 14:22:21.775 (  24.241s) [          160995]      netinterfaces.cpp:105   INFO| \tIPv6 addr: fe80::1%lo0\n",
      "2024-02-05 14:22:21.776 (  24.241s) [          160995]      netinterfaces.cpp:91    INFO| netif 'gif0' (status: 0, multicast: 32768, broadcast: 0)\n",
      "2024-02-05 14:22:21.776 (  24.241s) [          160995]      netinterfaces.cpp:91    INFO| netif 'stf0' (status: 0, multicast: 0, broadcast: 0)\n",
      "2024-02-05 14:22:21.776 (  24.241s) [          160995]      netinterfaces.cpp:91    INFO| netif 'anpi1' (status: 1, multicast: 32768, broadcast: 2)\n",
      "2024-02-05 14:22:21.776 (  24.241s) [          160995]      netinterfaces.cpp:91    INFO| netif 'anpi2' (status: 1, multicast: 32768, broadcast: 2)\n",
      "2024-02-05 14:22:21.776 (  24.241s) [          160995]      netinterfaces.cpp:91    INFO| netif 'anpi0' (status: 1, multicast: 32768, broadcast: 2)\n",
      "2024-02-05 14:22:21.776 (  24.241s) [          160995]      netinterfaces.cpp:91    INFO| netif 'en4' (status: 1, multicast: 32768, broadcast: 2)\n",
      "2024-02-05 14:22:21.776 (  24.241s) [          160995]      netinterfaces.cpp:91    INFO| netif 'en5' (status: 1, multicast: 32768, broadcast: 2)\n",
      "2024-02-05 14:22:21.776 (  24.241s) [          160995]      netinterfaces.cpp:91    INFO| netif 'en6' (status: 1, multicast: 32768, broadcast: 2)\n",
      "2024-02-05 14:22:21.776 (  24.241s) [          160995]      netinterfaces.cpp:91    INFO| netif 'en1' (status: 1, multicast: 32768, broadcast: 2)\n",
      "2024-02-05 14:22:21.776 (  24.241s) [          160995]      netinterfaces.cpp:91    INFO| netif 'en2' (status: 1, multicast: 32768, broadcast: 2)\n",
      "2024-02-05 14:22:21.776 (  24.241s) [          160995]      netinterfaces.cpp:91    INFO| netif 'en3' (status: 1, multicast: 32768, broadcast: 2)\n",
      "2024-02-05 14:22:21.776 (  24.241s) [          160995]      netinterfaces.cpp:91    INFO| netif 'bridge0' (status: 1, multicast: 32768, broadcast: 2)\n",
      "2024-02-05 14:22:21.776 (  24.241s) [          160995]      netinterfaces.cpp:91    INFO| netif 'ap1' (status: 1, multicast: 32768, broadcast: 2)\n",
      "2024-02-05 14:22:21.776 (  24.241s) [          160995]      netinterfaces.cpp:91    INFO| netif 'ap1' (status: 1, multicast: 32768, broadcast: 2)\n",
      "2024-02-05 14:22:21.776 (  24.241s) [          160995]      netinterfaces.cpp:105   INFO| \tIPv6 addr: fe80::a84d:7cff:fec0:72a%ap1\n",
      "2024-02-05 14:22:21.776 (  24.242s) [          160995]      netinterfaces.cpp:91    INFO| netif 'en0' (status: 1, multicast: 32768, broadcast: 2)\n",
      "2024-02-05 14:22:21.776 (  24.242s) [          160995]      netinterfaces.cpp:91    INFO| netif 'en0' (status: 1, multicast: 32768, broadcast: 2)\n",
      "2024-02-05 14:22:21.776 (  24.242s) [          160995]      netinterfaces.cpp:105   INFO| \tIPv6 addr: fe80::863:af31:d2f2:6769%en0\n",
      "2024-02-05 14:22:21.776 (  24.242s) [          160995]      netinterfaces.cpp:91    INFO| netif 'en0' (status: 1, multicast: 32768, broadcast: 2)\n",
      "2024-02-05 14:22:21.776 (  24.242s) [          160995]      netinterfaces.cpp:102   INFO| \tIPv4 addr: c0a85814\n",
      "2024-02-05 14:22:21.776 (  24.242s) [          160995]      netinterfaces.cpp:91    INFO| netif 'en0' (status: 1, multicast: 32768, broadcast: 2)\n",
      "2024-02-05 14:22:21.776 (  24.242s) [          160995]      netinterfaces.cpp:105   INFO| \tIPv6 addr: fdad:9943:e9c2:868:1cd8:8006:8b39:371c\n",
      "2024-02-05 14:22:21.776 (  24.242s) [          160995]      netinterfaces.cpp:91    INFO| netif 'awdl0' (status: 1, multicast: 32768, broadcast: 2)\n",
      "2024-02-05 14:22:21.776 (  24.242s) [          160995]      netinterfaces.cpp:91    INFO| netif 'awdl0' (status: 1, multicast: 32768, broadcast: 2)\n",
      "2024-02-05 14:22:21.776 (  24.242s) [          160995]      netinterfaces.cpp:105   INFO| \tIPv6 addr: fe80::f028:bdff:fe1f:da58%awdl0\n",
      "2024-02-05 14:22:21.776 (  24.242s) [          160995]      netinterfaces.cpp:91    INFO| netif 'llw0' (status: 1, multicast: 32768, broadcast: 2)\n",
      "2024-02-05 14:22:21.776 (  24.242s) [          160995]      netinterfaces.cpp:91    INFO| netif 'llw0' (status: 1, multicast: 32768, broadcast: 2)\n",
      "2024-02-05 14:22:21.776 (  24.242s) [          160995]      netinterfaces.cpp:105   INFO| \tIPv6 addr: fe80::f028:bdff:fe1f:da58%llw0\n",
      "2024-02-05 14:22:21.776 (  24.242s) [          160995]      netinterfaces.cpp:91    INFO| netif 'utun0' (status: 1, multicast: 32768, broadcast: 0)\n",
      "2024-02-05 14:22:21.776 (  24.242s) [          160995]      netinterfaces.cpp:91    INFO| netif 'utun0' (status: 1, multicast: 32768, broadcast: 0)\n",
      "2024-02-05 14:22:21.776 (  24.242s) [          160995]      netinterfaces.cpp:105   INFO| \tIPv6 addr: fe80::8e06:2674:3b0d:e5cc%utun0\n",
      "2024-02-05 14:22:21.776 (  24.242s) [          160995]      netinterfaces.cpp:91    INFO| netif 'utun1' (status: 1, multicast: 32768, broadcast: 0)\n",
      "2024-02-05 14:22:21.776 (  24.242s) [          160995]      netinterfaces.cpp:91    INFO| netif 'utun1' (status: 1, multicast: 32768, broadcast: 0)\n",
      "2024-02-05 14:22:21.777 (  24.242s) [          160995]      netinterfaces.cpp:105   INFO| \tIPv6 addr: fe80::5198:f5ca:5661:ebc4%utun1\n",
      "2024-02-05 14:22:21.777 (  24.242s) [          160995]      netinterfaces.cpp:91    INFO| netif 'utun2' (status: 1, multicast: 32768, broadcast: 0)\n",
      "2024-02-05 14:22:21.777 (  24.242s) [          160995]      netinterfaces.cpp:91    INFO| netif 'utun2' (status: 1, multicast: 32768, broadcast: 0)\n",
      "2024-02-05 14:22:21.777 (  24.242s) [          160995]      netinterfaces.cpp:105   INFO| \tIPv6 addr: fe80::d877:337a:112e:a18d%utun2\n",
      "2024-02-05 14:22:21.777 (  24.242s) [          160995]      netinterfaces.cpp:91    INFO| netif 'utun3' (status: 1, multicast: 32768, broadcast: 0)\n",
      "2024-02-05 14:22:21.777 (  24.242s) [          160995]      netinterfaces.cpp:91    INFO| netif 'utun3' (status: 1, multicast: 32768, broadcast: 0)\n",
      "2024-02-05 14:22:21.777 (  24.242s) [          160995]      netinterfaces.cpp:105   INFO| \tIPv6 addr: fe80::ce81:b1c:bd2c:69e%utun3\n",
      "2024-02-05 14:22:21.777 (  24.243s) [          160995]      netinterfaces.cpp:91    INFO| netif 'utun4' (status: 1, multicast: 32768, broadcast: 0)\n",
      "2024-02-05 14:22:21.777 (  24.243s) [          160995]      netinterfaces.cpp:91    INFO| netif 'utun4' (status: 1, multicast: 32768, broadcast: 0)\n",
      "2024-02-05 14:22:21.777 (  24.243s) [          160995]      netinterfaces.cpp:105   INFO| \tIPv6 addr: fe80::2b21:cb:3bbd:5821%utun4\n",
      "2024-02-05 14:22:21.777 (  24.243s) [          160995]      netinterfaces.cpp:91    INFO| netif 'utun5' (status: 1, multicast: 32768, broadcast: 0)\n",
      "2024-02-05 14:22:21.777 (  24.243s) [          160995]      netinterfaces.cpp:91    INFO| netif 'utun5' (status: 1, multicast: 32768, broadcast: 0)\n",
      "2024-02-05 14:22:21.777 (  24.243s) [          160995]      netinterfaces.cpp:105   INFO| \tIPv6 addr: fe80::d751:b11:16c5:cbec%utun5\n",
      "2024-02-05 14:22:21.777 (  24.243s) [          160995]      netinterfaces.cpp:91    INFO| netif 'utun6' (status: 1, multicast: 32768, broadcast: 0)\n",
      "2024-02-05 14:22:21.777 (  24.243s) [          160995]      netinterfaces.cpp:91    INFO| netif 'utun6' (status: 1, multicast: 32768, broadcast: 0)\n",
      "2024-02-05 14:22:21.777 (  24.243s) [          160995]      netinterfaces.cpp:105   INFO| \tIPv6 addr: fe80::875:4184:dbe0:baad%utun6\n",
      "2024-02-05 14:22:21.777 (  24.243s) [          160995]      netinterfaces.cpp:91    INFO| netif 'utun7' (status: 1, multicast: 32768, broadcast: 0)\n",
      "2024-02-05 14:22:21.777 (  24.243s) [          160995]      netinterfaces.cpp:91    INFO| netif 'utun7' (status: 1, multicast: 32768, broadcast: 0)\n",
      "2024-02-05 14:22:21.777 (  24.243s) [          160995]      netinterfaces.cpp:105   INFO| \tIPv6 addr: fe80::a81:bd56:a96a:5e14%utun7\n",
      "2024-02-05 14:22:21.777 (  24.243s) [          160995]      netinterfaces.cpp:91    INFO| netif 'en9' (status: 1, multicast: 32768, broadcast: 2)\n",
      "2024-02-05 14:22:21.777 (  24.243s) [          160995]         api_config.cpp:271   INFO| Loaded default config\n",
      "2024-02-05 14:22:21.778 (  24.244s) [          160995]             common.cpp:66    INFO| git:v1.16.2-23-g6a85d6f9/branch:master/build:Release/compiler:AppleClang-15.0.0.15000100/link:SHARED\n",
      "2024-02-05 14:22:21.779 (  24.245s) [          160995]         udp_server.cpp:82    WARN| Could not bind multicast responder for ff02:113d:6fdd:2c17:a643:ffe2:1bd1:3cd2 to interface ::1 (Can't assign requested address)\n",
      "2024-02-05 14:22:21.779 (  24.245s) [          160995]         udp_server.cpp:82    WARN| Could not bind multicast responder for ff02:113d:6fdd:2c17:a643:ffe2:1bd1:3cd2 to interface fdad:9943:e9c2:868:1cd8:8006:8b39:371c (Can't assign requested address)\n",
      "2024-02-05 14:22:21.779 (  24.245s) [          160995]         udp_server.cpp:82    WARN| Could not bind multicast responder for ff05:113d:6fdd:2c17:a643:ffe2:1bd1:3cd2 to interface ::1 (Can't assign requested address)\n",
      "2024-02-05 14:22:21.779 (  24.245s) [          160995]         udp_server.cpp:82    WARN| Could not bind multicast responder for ff05:113d:6fdd:2c17:a643:ffe2:1bd1:3cd2 to interface fdad:9943:e9c2:868:1cd8:8006:8b39:371c (Can't assign requested address)\n",
      "2024-02-05 14:22:21.781 (  24.246s) [          160995]         udp_server.cpp:82    WARN| Could not bind multicast responder for ff02:113d:6fdd:2c17:a643:ffe2:1bd1:3cd2 to interface ::1 (Can't assign requested address)\n",
      "2024-02-05 14:22:21.781 (  24.246s) [          160995]         udp_server.cpp:82    WARN| Could not bind multicast responder for ff02:113d:6fdd:2c17:a643:ffe2:1bd1:3cd2 to interface fdad:9943:e9c2:868:1cd8:8006:8b39:371c (Can't assign requested address)\n",
      "2024-02-05 14:22:21.781 (  24.247s) [          160995]         udp_server.cpp:82    WARN| Could not bind multicast responder for ff05:113d:6fdd:2c17:a643:ffe2:1bd1:3cd2 to interface ::1 (Can't assign requested address)\n",
      "2024-02-05 14:22:21.781 (  24.247s) [          160995]         udp_server.cpp:82    WARN| Could not bind multicast responder for ff05:113d:6fdd:2c17:a643:ffe2:1bd1:3cd2 to interface fdad:9943:e9c2:868:1cd8:8006:8b39:371c (Can't assign requested address)\n"
     ]
    },
    {
     "name": "stdout",
     "output_type": "stream",
     "text": [
      "Serial established\n",
      "Skipped 100 bytes before start found\n"
     ]
    },
    {
     "ename": "",
     "evalue": "",
     "output_type": "error",
     "traceback": [
      "\u001b[1;31mThe Kernel crashed while executing code in the current cell or a previous cell. \n",
      "\u001b[1;31mPlease review the code in the cell(s) to identify a possible cause of the failure. \n",
      "\u001b[1;31mClick <a href='https://aka.ms/vscodeJupyterKernelCrash'>here</a> for more info. \n",
      "\u001b[1;31mView Jupyter <a href='command:jupyter.viewOutput'>log</a> for further details."
     ]
    }
   ],
   "source": [
    "#Lets create a tkinter window that connects the headset and displays the data\n",
    "import tkinter as tk\n",
    "from tkinter import ttk\n",
    "from tkinter import messagebox\n",
    "import pyOpenBCI\n",
    "from pylsl import StreamInfo, StreamOutlet\n",
    "import numpy as np\n",
    "\n",
    "#Create a window\n",
    "win = tk.Tk()\n",
    "win.title(\"OpenBCI GUI\")\n",
    "\n",
    "#Label CogniSync\n",
    "pgLabel = ttk.Label(win, text=\"CogniSync\")\n",
    "pgLabel.grid(row=0, column=0)\n",
    "\n",
    "#Button for connecting to the headset\n",
    "def startLSL():\n",
    "    #messagebox.showinfo(\"Connection\", \"Connecting to the headset\")\n",
    "    SCALE_FACTOR_EEG = (4500000)/24/(2**23-1) #uV/count\n",
    "    SCALE_FACTOR_AUX = 0.002 / (2**4)\n",
    "    print(\"Creating LSL stream for EEG. \\nName: OpenBCIEEG\\nID: OpenBCItestEEG\\n\")\n",
    "    info_eeg = StreamInfo('OpenBCIEEG', 'EEG', 8, 250, 'float32', 'OpenBCItestEEG')\n",
    "    print(\"Creating LSL stream for AUX. \\nName: OpenBCIAUX\\nID: OpenBCItestEEG\\n\")\n",
    "    info_aux = StreamInfo('OpenBCIAUX', 'AUX', 3, 250, 'float32', 'OpenBCItestAUX')\n",
    "\n",
    "    outlet_eeg = StreamOutlet(info_eeg)\n",
    "    outlet_aux = StreamOutlet(info_aux)\n",
    "\n",
    "    def lsl_streamers(sample):\n",
    "        outlet_eeg.push_sample(np.array(sample.channels_data)*SCALE_FACTOR_EEG)\n",
    "        outlet_aux.push_sample(np.array(sample.aux_data)*SCALE_FACTOR_AUX)\n",
    "\n",
    "    board = pyOpenBCI.OpenBCICyton()\n",
    "    board.start_stream(lsl_streamers)\n",
    "\n",
    "#Function to retreive the data from our lsl stream\n",
    "def getData():\n",
    "    print(\"Retreiving data from the LSL stream\")\n",
    "    \n",
    "\n",
    "#Create a button\n",
    "connectButton = ttk.Button(win, text=\"Connect\", command=startLSL)\n",
    "connectButton.grid(row=1, column=1)\n",
    "\n",
    "\n",
    "#Display the window\n",
    "win.mainloop()"
   ]
  },
  {
   "cell_type": "markdown",
   "metadata": {},
   "source": [
    "# Data collection"
   ]
  },
  {
   "cell_type": "code",
   "execution_count": 2,
   "metadata": {},
   "outputs": [
    {
     "name": "stdout",
     "output_type": "stream",
     "text": [
      "Creating LSL stream for EEG. \n",
      "Name: OpenBCIEEG\n",
      "ID: OpenBCItestEEG\n",
      "\n",
      "Creating LSL stream for AUX. \n",
      "Name: OpenBCIAUX\n",
      "ID: OpenBCItestEEG\n",
      "\n"
     ]
    },
    {
     "name": "stderr",
     "output_type": "stream",
     "text": [
      "2024-03-01 10:16:27.601 (  26.219s) [          18E0AC]         udp_server.cpp:82    WARN| Could not bind multicast responder for ff02:113d:6fdd:2c17:a643:ffe2:1bd1:3cd2 to interface ::1 (Can't assign requested address)\n",
      "2024-03-01 10:16:27.601 (  26.219s) [          18E0AC]         udp_server.cpp:82    WARN| Could not bind multicast responder for ff02:113d:6fdd:2c17:a643:ffe2:1bd1:3cd2 to interface fdad:9943:e9c2:868:1cd8:8006:8b39:371c (Can't assign requested address)\n",
      "2024-03-01 10:16:27.601 (  26.219s) [          18E0AC]         udp_server.cpp:82    WARN| Could not bind multicast responder for ff02:113d:6fdd:2c17:a643:ffe2:1bd1:3cd2 to interface 192.168.88.20 (Can't assign requested address)\n",
      "2024-03-01 10:16:27.601 (  26.219s) [          18E0AC]         udp_server.cpp:82    WARN| Could not bind multicast responder for ff02:113d:6fdd:2c17:a643:ffe2:1bd1:3cd2 to interface 2607:fb91:2cf5:55d0:90b3:da65:5ae0:ad37 (Can't assign requested address)\n",
      "2024-03-01 10:16:27.601 (  26.219s) [          18E0AC]         udp_server.cpp:82    WARN| Could not bind multicast responder for ff05:113d:6fdd:2c17:a643:ffe2:1bd1:3cd2 to interface ::1 (Can't assign requested address)\n",
      "2024-03-01 10:16:27.601 (  26.219s) [          18E0AC]         udp_server.cpp:82    WARN| Could not bind multicast responder for ff05:113d:6fdd:2c17:a643:ffe2:1bd1:3cd2 to interface fdad:9943:e9c2:868:1cd8:8006:8b39:371c (Can't assign requested address)\n",
      "2024-03-01 10:16:27.601 (  26.219s) [          18E0AC]         udp_server.cpp:82    WARN| Could not bind multicast responder for ff05:113d:6fdd:2c17:a643:ffe2:1bd1:3cd2 to interface 192.168.88.20 (Can't assign requested address)\n",
      "2024-03-01 10:16:27.601 (  26.219s) [          18E0AC]         udp_server.cpp:82    WARN| Could not bind multicast responder for ff05:113d:6fdd:2c17:a643:ffe2:1bd1:3cd2 to interface 2607:fb91:2cf5:55d0:90b3:da65:5ae0:ad37 (Can't assign requested address)\n",
      "2024-03-01 10:16:27.632 (  26.250s) [          18E0AC]         udp_server.cpp:82    WARN| Could not bind multicast responder for ff02:113d:6fdd:2c17:a643:ffe2:1bd1:3cd2 to interface ::1 (Can't assign requested address)\n",
      "2024-03-01 10:16:27.632 (  26.250s) [          18E0AC]         udp_server.cpp:82    WARN| Could not bind multicast responder for ff02:113d:6fdd:2c17:a643:ffe2:1bd1:3cd2 to interface fdad:9943:e9c2:868:1cd8:8006:8b39:371c (Can't assign requested address)\n",
      "2024-03-01 10:16:27.632 (  26.250s) [          18E0AC]         udp_server.cpp:82    WARN| Could not bind multicast responder for ff02:113d:6fdd:2c17:a643:ffe2:1bd1:3cd2 to interface 192.168.88.20 (Can't assign requested address)\n",
      "2024-03-01 10:16:27.632 (  26.250s) [          18E0AC]         udp_server.cpp:82    WARN| Could not bind multicast responder for ff02:113d:6fdd:2c17:a643:ffe2:1bd1:3cd2 to interface 2607:fb91:2cf5:55d0:90b3:da65:5ae0:ad37 (Can't assign requested address)\n",
      "2024-03-01 10:16:27.632 (  26.250s) [          18E0AC]         udp_server.cpp:82    WARN| Could not bind multicast responder for ff05:113d:6fdd:2c17:a643:ffe2:1bd1:3cd2 to interface ::1 (Can't assign requested address)\n",
      "2024-03-01 10:16:27.632 (  26.250s) [          18E0AC]         udp_server.cpp:82    WARN| Could not bind multicast responder for ff05:113d:6fdd:2c17:a643:ffe2:1bd1:3cd2 to interface fdad:9943:e9c2:868:1cd8:8006:8b39:371c (Can't assign requested address)\n",
      "2024-03-01 10:16:27.632 (  26.250s) [          18E0AC]         udp_server.cpp:82    WARN| Could not bind multicast responder for ff05:113d:6fdd:2c17:a643:ffe2:1bd1:3cd2 to interface 192.168.88.20 (Can't assign requested address)\n",
      "2024-03-01 10:16:27.632 (  26.250s) [          18E0AC]         udp_server.cpp:82    WARN| Could not bind multicast responder for ff05:113d:6fdd:2c17:a643:ffe2:1bd1:3cd2 to interface 2607:fb91:2cf5:55d0:90b3:da65:5ae0:ad37 (Can't assign requested address)\n"
     ]
    },
    {
     "name": "stdout",
     "output_type": "stream",
     "text": [
      "Serial established\n",
      "Skipped 100 bytes before start found\n"
     ]
    },
    {
     "ename": "TypeError",
     "evalue": "can't multiply sequence by non-int of type 'float'",
     "output_type": "error",
     "traceback": [
      "\u001b[0;31m---------------------------------------------------------------------------\u001b[0m",
      "\u001b[0;31mTypeError\u001b[0m                                 Traceback (most recent call last)",
      "Cell \u001b[0;32mIn[2], line 41\u001b[0m\n\u001b[1;32m     37\u001b[0m     tempVal\u001b[38;5;241m.\u001b[39mclose()\n\u001b[1;32m     39\u001b[0m board \u001b[38;5;241m=\u001b[39m OpenBCICyton()\n\u001b[0;32m---> 41\u001b[0m \u001b[43mboard\u001b[49m\u001b[38;5;241;43m.\u001b[39;49m\u001b[43mstart_stream\u001b[49m\u001b[43m(\u001b[49m\u001b[43mlsl_streamers\u001b[49m\u001b[43m)\u001b[49m\n\u001b[1;32m     42\u001b[0m file\u001b[38;5;241m.\u001b[39mclose()\n",
      "File \u001b[0;32m/opt/homebrew/lib/python3.11/site-packages/pyOpenBCI/cyton.py:269\u001b[0m, in \u001b[0;36mOpenBCICyton.start_stream\u001b[0;34m(self, callback)\u001b[0m\n\u001b[1;32m    267\u001b[0m \u001b[38;5;28;01mif\u001b[39;00m \u001b[38;5;129;01mnot\u001b[39;00m \u001b[38;5;28mself\u001b[39m\u001b[38;5;241m.\u001b[39mdaisy:\n\u001b[1;32m    268\u001b[0m      \u001b[38;5;28;01mfor\u001b[39;00m call \u001b[38;5;129;01min\u001b[39;00m callback:\n\u001b[0;32m--> 269\u001b[0m          \u001b[43mcall\u001b[49m\u001b[43m(\u001b[49m\u001b[43msample\u001b[49m\u001b[43m)\u001b[49m\n\u001b[1;32m    271\u001b[0m \u001b[38;5;66;03m# When daisy is connected wait to concatenate two samples\u001b[39;00m\n\u001b[1;32m    272\u001b[0m \u001b[38;5;28;01melse\u001b[39;00m:\n\u001b[1;32m    273\u001b[0m     \u001b[38;5;66;03m# odd sample is daisy sample use later\u001b[39;00m\n\u001b[1;32m    274\u001b[0m     \u001b[38;5;28;01mif\u001b[39;00m \u001b[38;5;241m~\u001b[39msample\u001b[38;5;241m.\u001b[39mid \u001b[38;5;241m%\u001b[39m \u001b[38;5;241m2\u001b[39m:\n",
      "Cell \u001b[0;32mIn[2], line 31\u001b[0m, in \u001b[0;36mlsl_streamers\u001b[0;34m(sample)\u001b[0m\n\u001b[1;32m     29\u001b[0m outlet_eeg\u001b[38;5;241m.\u001b[39mpush_sample(np\u001b[38;5;241m.\u001b[39marray(sample\u001b[38;5;241m.\u001b[39mchannels_data)\u001b[38;5;241m*\u001b[39mSCALE_FACTOR_EEG)\n\u001b[1;32m     30\u001b[0m outlet_aux\u001b[38;5;241m.\u001b[39mpush_sample(np\u001b[38;5;241m.\u001b[39marray(sample\u001b[38;5;241m.\u001b[39maux_data)\u001b[38;5;241m*\u001b[39mSCALE_FACTOR_AUX)\n\u001b[0;32m---> 31\u001b[0m \u001b[38;5;28mprint\u001b[39m(\u001b[43msample\u001b[49m\u001b[38;5;241;43m.\u001b[39;49m\u001b[43mchannels_data\u001b[49m\u001b[38;5;241;43m*\u001b[39;49m\u001b[43mSCALE_FACTOR_EEG\u001b[49m, sample\u001b[38;5;241m.\u001b[39maux_data\u001b[38;5;241m*\u001b[39mSCALE_FACTOR_AUX, lbl)\n\u001b[1;32m     32\u001b[0m \u001b[38;5;28;01mfor\u001b[39;00m datai \u001b[38;5;129;01min\u001b[39;00m sample\u001b[38;5;241m.\u001b[39mchannels_data:\n\u001b[1;32m     33\u001b[0m     file\u001b[38;5;241m.\u001b[39mwrite(\u001b[38;5;28mstr\u001b[39m(datai\u001b[38;5;241m*\u001b[39mSCALE_FACTOR_EEG) \u001b[38;5;241m+\u001b[39m \u001b[38;5;124m'\u001b[39m\u001b[38;5;124m,\u001b[39m\u001b[38;5;124m'\u001b[39m)\n",
      "\u001b[0;31mTypeError\u001b[0m: can't multiply sequence by non-int of type 'float'"
     ]
    }
   ],
   "source": [
    "from pyOpenBCI import OpenBCICyton\n",
    "from pylsl import StreamInfo, StreamOutlet\n",
    "import numpy as np\n",
    "\n",
    "SCALE_FACTOR_EEG = (4500000)/24/(2**23-1) #uV/count\n",
    "SCALE_FACTOR_AUX = 0.002 / (2**4)\n",
    "\n",
    "print(\"Creating LSL stream for EEG. \\nName: OpenBCIEEG\\nID: OpenBCItestEEG\\n\")\n",
    "\n",
    "info_eeg = StreamInfo('OpenBCIEEG', 'EEG', 8, 250, 'float32', 'OpenBCItestEEG')\n",
    "\n",
    "print(\"Creating LSL stream for AUX. \\nName: OpenBCIAUX\\nID: OpenBCItestEEG\\n\")\n",
    "\n",
    "info_aux = StreamInfo('OpenBCIAUX', 'AUX', 3, 250, 'float32', 'OpenBCItestAUX')\n",
    "\n",
    "outlet_eeg = StreamOutlet(info_eeg)\n",
    "outlet_aux = StreamOutlet(info_aux)\n",
    "\n",
    "file = open('newest_rename.csv', 'a')\n",
    "tempVal = open('tempVal.txt', 'r')\n",
    "\n",
    "def lsl_streamers(sample):\n",
    "    tempVal = open('tempVal.txt', 'r')\n",
    "    lbl = ''\n",
    "    if tempVal.read() != '':\n",
    "        lbl = tempVal.read()\n",
    "    else:\n",
    "        lbl = 'norm'\n",
    "    outlet_eeg.push_sample(np.array(sample.channels_data)*SCALE_FACTOR_EEG)\n",
    "    outlet_aux.push_sample(np.array(sample.aux_data)*SCALE_FACTOR_AUX)\n",
    "    #print(sample.channels_data*SCALE_FACTOR_EEG, sample.aux_data*SCALE_FACTOR_AUX, lbl)\n",
    "    for datai in sample.channels_data:\n",
    "        file.write(str(datai*SCALE_FACTOR_EEG) + ',')\n",
    "    for dataj in sample.aux_data:\n",
    "        file.write(str(dataj*SCALE_FACTOR_AUX) + ',')\n",
    "    file.write(str(lbl) + '\\n')\n",
    "    tempVal.close()\n",
    "\n",
    "board = OpenBCICyton()\n",
    "\n",
    "board.start_stream(lsl_streamers)\n",
    "file.close()\n"
   ]
  }
 ],
 "metadata": {
  "kernelspec": {
   "display_name": "Python 3",
   "language": "python",
   "name": "python3"
  },
  "language_info": {
   "codemirror_mode": {
    "name": "ipython",
    "version": 3
   },
   "file_extension": ".py",
   "mimetype": "text/x-python",
   "name": "python",
   "nbconvert_exporter": "python",
   "pygments_lexer": "ipython3",
   "version": "3.11.6"
  }
 },
 "nbformat": 4,
 "nbformat_minor": 2
}
