{
 "cells": [
  {
   "cell_type": "code",
   "execution_count": 28,
   "metadata": {},
   "outputs": [],
   "source": [
    "#!pip install pyOpenBCI pylsl\n",
    "#!pip install numpy pyserial bitstring xmltodict requests"
   ]
  },
  {
   "cell_type": "code",
   "execution_count": 29,
   "metadata": {},
   "outputs": [],
   "source": [
    "# import pyOpenBCI\n",
    "# from pyOpenBCI import OpenBCICyton\n",
    "\n",
    "# #For Windows replace '*' with the port number\n",
    "# #board = OpenBCICyton(port='COM*')\n",
    "\n",
    "# #For MacOS and Linux replace '*' with the port number\n",
    "# #board = OpenBCICyton(port='/dev/ttyUSB*')\n",
    "\n",
    "# #Auto port detection\n",
    "# board = OpenBCICyton()"
   ]
  },
  {
   "cell_type": "code",
   "execution_count": 30,
   "metadata": {},
   "outputs": [],
   "source": [
    "# Write commands to the board\n",
    "#board.write_command(command)\n",
    "\n",
    "#Commands\n",
    "# def print_raw(sample):\n",
    "#     print(sample.channels_data)\n",
    "\n",
    "# board.start_stream(print_raw)"
   ]
  },
  {
   "cell_type": "code",
   "execution_count": 31,
   "metadata": {},
   "outputs": [
    {
     "name": "stdout",
     "output_type": "stream",
     "text": [
      "Creating LSL stream for EEG. \n",
      "Name: OpenBCIEEG\n",
      "ID: OpenBCItestEEG\n",
      "\n",
      "Creating LSL stream for AUX. \n",
      "Name: OpenBCIAUX\n",
      "ID: OpenBCItestEEG\n",
      "\n"
     ]
    },
    {
     "name": "stderr",
     "output_type": "stream",
     "text": [
      "2024-01-29 15:20:59.585 (  55.381s) [          38EDE8]         udp_server.cpp:82    WARN| Could not bind multicast responder for ff02:113d:6fdd:2c17:a643:ffe2:1bd1:3cd2 to interface ::1 (Can't assign requested address)\n",
      "2024-01-29 15:20:59.585 (  55.381s) [          38EDE8]         udp_server.cpp:82    WARN| Could not bind multicast responder for ff02:113d:6fdd:2c17:a643:ffe2:1bd1:3cd2 to interface 2620:10a:3040:a150:14a7:59f0:1a8f:36dd (Can't assign requested address)\n",
      "2024-01-29 15:20:59.585 (  55.381s) [          38EDE8]         udp_server.cpp:82    WARN| Could not bind multicast responder for ff02:113d:6fdd:2c17:a643:ffe2:1bd1:3cd2 to interface 2620:10a:3040:a150:b5d0:31b0:ea3d:557e (Can't assign requested address)\n",
      "2024-01-29 15:20:59.585 (  55.381s) [          38EDE8]         udp_server.cpp:82    WARN| Could not bind multicast responder for ff02:113d:6fdd:2c17:a643:ffe2:1bd1:3cd2 to interface 10.129.111.160 (Can't assign requested address)\n",
      "2024-01-29 15:20:59.585 (  55.382s) [          38EDE8]         udp_server.cpp:82    WARN| Could not bind multicast responder for ff02:113d:6fdd:2c17:a643:ffe2:1bd1:3cd2 to interface 2607:fb91:bdf2:1c61:a409:f84:7c77:af7e (Can't assign requested address)\n",
      "2024-01-29 15:20:59.585 (  55.382s) [          38EDE8]         udp_server.cpp:82    WARN| Could not bind multicast responder for ff05:113d:6fdd:2c17:a643:ffe2:1bd1:3cd2 to interface fe80::180b:a4f9:b745:a6ef%en0 (Address already in use)\n",
      "2024-01-29 15:20:59.585 (  55.382s) [          38EDE8]         udp_server.cpp:82    WARN| Could not bind multicast responder for ff05:113d:6fdd:2c17:a643:ffe2:1bd1:3cd2 to interface 2620:10a:3040:a150:14a7:59f0:1a8f:36dd (Address already in use)\n",
      "2024-01-29 15:20:59.585 (  55.382s) [          38EDE8]         udp_server.cpp:82    WARN| Could not bind multicast responder for ff05:113d:6fdd:2c17:a643:ffe2:1bd1:3cd2 to interface 2620:10a:3040:a150:b5d0:31b0:ea3d:557e (Address already in use)\n",
      "2024-01-29 15:20:59.585 (  55.382s) [          38EDE8]         udp_server.cpp:82    WARN| Could not bind multicast responder for ff05:113d:6fdd:2c17:a643:ffe2:1bd1:3cd2 to interface 10.129.111.160 (Address already in use)\n",
      "2024-01-29 15:20:59.585 (  55.382s) [          38EDE8]         udp_server.cpp:82    WARN| Could not bind multicast responder for ff05:113d:6fdd:2c17:a643:ffe2:1bd1:3cd2 to interface 2607:fb91:bdf2:1c61:a409:f84:7c77:af7e (Address already in use)\n",
      "2024-01-29 15:20:59.616 (  55.412s) [          38EDE8]         udp_server.cpp:82    WARN| Could not bind multicast responder for ff02:113d:6fdd:2c17:a643:ffe2:1bd1:3cd2 to interface ::1 (Can't assign requested address)\n",
      "2024-01-29 15:20:59.616 (  55.412s) [          38EDE8]         udp_server.cpp:82    WARN| Could not bind multicast responder for ff02:113d:6fdd:2c17:a643:ffe2:1bd1:3cd2 to interface 2620:10a:3040:a150:14a7:59f0:1a8f:36dd (Can't assign requested address)\n",
      "2024-01-29 15:20:59.616 (  55.412s) [          38EDE8]         udp_server.cpp:82    WARN| Could not bind multicast responder for ff02:113d:6fdd:2c17:a643:ffe2:1bd1:3cd2 to interface 2620:10a:3040:a150:b5d0:31b0:ea3d:557e (Can't assign requested address)\n",
      "2024-01-29 15:20:59.616 (  55.412s) [          38EDE8]         udp_server.cpp:82    WARN| Could not bind multicast responder for ff02:113d:6fdd:2c17:a643:ffe2:1bd1:3cd2 to interface 10.129.111.160 (Can't assign requested address)\n",
      "2024-01-29 15:20:59.616 (  55.412s) [          38EDE8]         udp_server.cpp:82    WARN| Could not bind multicast responder for ff02:113d:6fdd:2c17:a643:ffe2:1bd1:3cd2 to interface 2607:fb91:bdf2:1c61:a409:f84:7c77:af7e (Can't assign requested address)\n",
      "2024-01-29 15:20:59.616 (  55.412s) [          38EDE8]         udp_server.cpp:82    WARN| Could not bind multicast responder for ff05:113d:6fdd:2c17:a643:ffe2:1bd1:3cd2 to interface fe80::180b:a4f9:b745:a6ef%en0 (Address already in use)\n",
      "2024-01-29 15:20:59.616 (  55.413s) [          38EDE8]         udp_server.cpp:82    WARN| Could not bind multicast responder for ff05:113d:6fdd:2c17:a643:ffe2:1bd1:3cd2 to interface 2620:10a:3040:a150:14a7:59f0:1a8f:36dd (Address already in use)\n",
      "2024-01-29 15:20:59.616 (  55.413s) [          38EDE8]         udp_server.cpp:82    WARN| Could not bind multicast responder for ff05:113d:6fdd:2c17:a643:ffe2:1bd1:3cd2 to interface 2620:10a:3040:a150:b5d0:31b0:ea3d:557e (Address already in use)\n",
      "2024-01-29 15:20:59.616 (  55.413s) [          38EDE8]         udp_server.cpp:82    WARN| Could not bind multicast responder for ff05:113d:6fdd:2c17:a643:ffe2:1bd1:3cd2 to interface 10.129.111.160 (Address already in use)\n",
      "2024-01-29 15:20:59.616 (  55.413s) [          38EDE8]         udp_server.cpp:82    WARN| Could not bind multicast responder for ff05:113d:6fdd:2c17:a643:ffe2:1bd1:3cd2 to interface 2607:fb91:bdf2:1c61:a409:f84:7c77:af7e (Address already in use)\n"
     ]
    },
    {
     "name": "stdout",
     "output_type": "stream",
     "text": [
      "Serial established\n",
      "Skipped 100 bytes before start found\n"
     ]
    },
    {
     "ename": "KeyboardInterrupt",
     "evalue": "",
     "output_type": "error",
     "traceback": [
      "\u001b[0;31m---------------------------------------------------------------------------\u001b[0m",
      "\u001b[0;31mKeyboardInterrupt\u001b[0m                         Traceback (most recent call last)",
      "Cell \u001b[0;32mIn[31], line 26\u001b[0m\n\u001b[1;32m     22\u001b[0m     outlet_aux\u001b[38;5;241m.\u001b[39mpush_sample(np\u001b[38;5;241m.\u001b[39marray(sample\u001b[38;5;241m.\u001b[39maux_data)\u001b[38;5;241m*\u001b[39mSCALE_FACTOR_AUX)\n\u001b[1;32m     24\u001b[0m board \u001b[38;5;241m=\u001b[39m OpenBCICyton()\n\u001b[0;32m---> 26\u001b[0m \u001b[43mboard\u001b[49m\u001b[38;5;241;43m.\u001b[39;49m\u001b[43mstart_stream\u001b[49m\u001b[43m(\u001b[49m\u001b[43mlsl_streamers\u001b[49m\u001b[43m)\u001b[49m\n",
      "File \u001b[0;32m/opt/homebrew/lib/python3.11/site-packages/pyOpenBCI/cyton.py:265\u001b[0m, in \u001b[0;36mOpenBCICyton.start_stream\u001b[0;34m(self, callback)\u001b[0m\n\u001b[1;32m    260\u001b[0m \u001b[38;5;28mself\u001b[39m\u001b[38;5;241m.\u001b[39mcheck_connection(max_packets_skipped\u001b[38;5;241m=\u001b[39m\u001b[38;5;28mself\u001b[39m\u001b[38;5;241m.\u001b[39mmax_packets_skipped)\n\u001b[1;32m    262\u001b[0m \u001b[38;5;28;01mwhile\u001b[39;00m \u001b[38;5;28mself\u001b[39m\u001b[38;5;241m.\u001b[39mstreaming:\n\u001b[1;32m    263\u001b[0m \n\u001b[1;32m    264\u001b[0m     \u001b[38;5;66;03m#read current sample\u001b[39;00m\n\u001b[0;32m--> 265\u001b[0m     sample \u001b[38;5;241m=\u001b[39m \u001b[38;5;28;43mself\u001b[39;49m\u001b[38;5;241;43m.\u001b[39;49m\u001b[43mparse_board_data\u001b[49m\u001b[43m(\u001b[49m\u001b[43m)\u001b[49m\n\u001b[1;32m    267\u001b[0m     \u001b[38;5;28;01mif\u001b[39;00m \u001b[38;5;129;01mnot\u001b[39;00m \u001b[38;5;28mself\u001b[39m\u001b[38;5;241m.\u001b[39mdaisy:\n\u001b[1;32m    268\u001b[0m          \u001b[38;5;28;01mfor\u001b[39;00m call \u001b[38;5;129;01min\u001b[39;00m callback:\n",
      "File \u001b[0;32m/opt/homebrew/lib/python3.11/site-packages/pyOpenBCI/cyton.py:176\u001b[0m, in \u001b[0;36mOpenBCICyton.parse_board_data\u001b[0;34m(self, maxbytes2skip)\u001b[0m\n\u001b[1;32m    173\u001b[0m     \u001b[38;5;28mprint\u001b[39m(\u001b[38;5;124m'\u001b[39m\u001b[38;5;124mSkipped \u001b[39m\u001b[38;5;132;01m%d\u001b[39;00m\u001b[38;5;124m bytes before start found\u001b[39m\u001b[38;5;124m'\u001b[39m \u001b[38;5;241m%\u001b[39m rep)\n\u001b[1;32m    174\u001b[0m     rep \u001b[38;5;241m=\u001b[39m \u001b[38;5;241m0\u001b[39m\n\u001b[0;32m--> 176\u001b[0m packet_id \u001b[38;5;241m=\u001b[39m struct\u001b[38;5;241m.\u001b[39munpack(\u001b[38;5;124m'\u001b[39m\u001b[38;5;124mB\u001b[39m\u001b[38;5;124m'\u001b[39m, \u001b[43mread_board\u001b[49m\u001b[43m(\u001b[49m\u001b[38;5;241;43m1\u001b[39;49m\u001b[43m)\u001b[49m)[\u001b[38;5;241m0\u001b[39m]\n\u001b[1;32m    177\u001b[0m log_bytes_in \u001b[38;5;241m=\u001b[39m \u001b[38;5;28mstr\u001b[39m(packet_id)\n\u001b[1;32m    179\u001b[0m \u001b[38;5;28mself\u001b[39m\u001b[38;5;241m.\u001b[39mread_state \u001b[38;5;241m=\u001b[39m \u001b[38;5;241m1\u001b[39m\n",
      "File \u001b[0;32m/opt/homebrew/lib/python3.11/site-packages/pyOpenBCI/cyton.py:155\u001b[0m, in \u001b[0;36mOpenBCICyton.parse_board_data.<locals>.read_board\u001b[0;34m(n)\u001b[0m\n\u001b[1;32m    154\u001b[0m \u001b[38;5;28;01mdef\u001b[39;00m \u001b[38;5;21mread_board\u001b[39m(n):\n\u001b[0;32m--> 155\u001b[0m     bb \u001b[38;5;241m=\u001b[39m \u001b[38;5;28;43mself\u001b[39;49m\u001b[38;5;241;43m.\u001b[39;49m\u001b[43mser\u001b[49m\u001b[38;5;241;43m.\u001b[39;49m\u001b[43mread\u001b[49m\u001b[43m(\u001b[49m\u001b[43mn\u001b[49m\u001b[43m)\u001b[49m\n\u001b[1;32m    156\u001b[0m     \u001b[38;5;28;01mif\u001b[39;00m \u001b[38;5;129;01mnot\u001b[39;00m bb:\n\u001b[1;32m    157\u001b[0m         \u001b[38;5;28mprint\u001b[39m(\u001b[38;5;124m'\u001b[39m\u001b[38;5;124mDevice appears to be stalling. Quitting...\u001b[39m\u001b[38;5;124m'\u001b[39m)\n",
      "File \u001b[0;32m/opt/homebrew/lib/python3.11/site-packages/serial/serialposix.py:565\u001b[0m, in \u001b[0;36mSerial.read\u001b[0;34m(self, size)\u001b[0m\n\u001b[1;32m    563\u001b[0m \u001b[38;5;28;01mwhile\u001b[39;00m \u001b[38;5;28mlen\u001b[39m(read) \u001b[38;5;241m<\u001b[39m size:\n\u001b[1;32m    564\u001b[0m     \u001b[38;5;28;01mtry\u001b[39;00m:\n\u001b[0;32m--> 565\u001b[0m         ready, _, _ \u001b[38;5;241m=\u001b[39m select\u001b[38;5;241m.\u001b[39mselect([\u001b[38;5;28mself\u001b[39m\u001b[38;5;241m.\u001b[39mfd, \u001b[38;5;28mself\u001b[39m\u001b[38;5;241m.\u001b[39mpipe_abort_read_r], [], [], timeout\u001b[38;5;241m.\u001b[39mtime_left())\n\u001b[1;32m    566\u001b[0m         \u001b[38;5;28;01mif\u001b[39;00m \u001b[38;5;28mself\u001b[39m\u001b[38;5;241m.\u001b[39mpipe_abort_read_r \u001b[38;5;129;01min\u001b[39;00m ready:\n\u001b[1;32m    567\u001b[0m             os\u001b[38;5;241m.\u001b[39mread(\u001b[38;5;28mself\u001b[39m\u001b[38;5;241m.\u001b[39mpipe_abort_read_r, \u001b[38;5;241m1000\u001b[39m)\n",
      "\u001b[0;31mKeyboardInterrupt\u001b[0m: "
     ]
    }
   ],
   "source": [
    "from pyOpenBCI import OpenBCICyton\n",
    "from pylsl import StreamInfo, StreamOutlet\n",
    "import numpy as np\n",
    "\n",
    "SCALE_FACTOR_EEG = (4500000)/24/(2**23-1) #uV/count\n",
    "SCALE_FACTOR_AUX = 0.002 / (2**4)\n",
    "\n",
    "\n",
    "print(\"Creating LSL stream for EEG. \\nName: OpenBCIEEG\\nID: OpenBCItestEEG\\n\")\n",
    "\n",
    "info_eeg = StreamInfo('OpenBCIEEG', 'EEG', 8, 250, 'float32', 'OpenBCItestEEG')\n",
    "\n",
    "print(\"Creating LSL stream for AUX. \\nName: OpenBCIAUX\\nID: OpenBCItestEEG\\n\")\n",
    "\n",
    "info_aux = StreamInfo('OpenBCIAUX', 'AUX', 3, 250, 'float32', 'OpenBCItestAUX')\n",
    "\n",
    "outlet_eeg = StreamOutlet(info_eeg)\n",
    "outlet_aux = StreamOutlet(info_aux)\n",
    "\n",
    "def lsl_streamers(sample):\n",
    "    outlet_eeg.push_sample(np.array(sample.channels_data)*SCALE_FACTOR_EEG)\n",
    "    outlet_aux.push_sample(np.array(sample.aux_data)*SCALE_FACTOR_AUX)\n",
    "\n",
    "board = OpenBCICyton()\n",
    "\n",
    "board.start_stream(lsl_streamers)"
   ]
  }
 ],
 "metadata": {
  "kernelspec": {
   "display_name": "Python 3",
   "language": "python",
   "name": "python3"
  },
  "language_info": {
   "codemirror_mode": {
    "name": "ipython",
    "version": 3
   },
   "file_extension": ".py",
   "mimetype": "text/x-python",
   "name": "python",
   "nbconvert_exporter": "python",
   "pygments_lexer": "ipython3",
   "version": "3.11.6"
  }
 },
 "nbformat": 4,
 "nbformat_minor": 2
}
